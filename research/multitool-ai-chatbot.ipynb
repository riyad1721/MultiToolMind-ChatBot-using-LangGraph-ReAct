{
 "cells": [
  {
   "cell_type": "code",
   "execution_count": 1,
   "id": "879d41fa",
   "metadata": {},
   "outputs": [],
   "source": [
    "from langchain_community.tools import ArxivQueryRun,WikipediaQueryRun\n",
    "from langchain_community.utilities import WikipediaAPIWrapper,ArxivAPIWrapper"
   ]
  },
  {
   "cell_type": "code",
   "execution_count": 3,
   "id": "3afb97f9",
   "metadata": {},
   "outputs": [
    {
     "name": "stdout",
     "output_type": "stream",
     "text": [
      "arxiv\n"
     ]
    }
   ],
   "source": [
    "api_wrapper_arxiv=ArxivAPIWrapper(top_k_results=2,doc_content_chars_max=500)\n",
    "arxiv=ArxivQueryRun(api_wrapper=api_wrapper_arxiv,description=\"Query arxiv papers\")\n",
    "print(arxiv.name)"
   ]
  },
  {
   "cell_type": "code",
   "execution_count": 4,
   "id": "f612fb47",
   "metadata": {},
   "outputs": [
    {
     "data": {
      "text/plain": [
       "'Published: 2023-05-23\\nTitle: Fast and energy-efficient non-volatile III-V-on-silicon photonic phase shifter based on memristors\\nAuthors: Zhuoran Fang, Bassem Tossoun, Antoine Descos, Di Liang, Xue Huang, Geza Kurczveil, Arka Majumdar, Raymond G. Beausoleil\\nSummary: Silicon photonics has evolved from lab research to commercial products in the\\npast decade as it plays an increasingly crucial role in data communication for\\nnext-generation data centers and high performance computing1. Recently,\\nprogr'"
      ]
     },
     "execution_count": 4,
     "metadata": {},
     "output_type": "execute_result"
    }
   ],
   "source": [
    "arxiv.invoke(\"What is the latest research on quantum computing?\")"
   ]
  },
  {
   "cell_type": "code",
   "execution_count": 6,
   "id": "b7be11ad",
   "metadata": {},
   "outputs": [
    {
     "data": {
      "text/plain": [
       "'wikipedia'"
      ]
     },
     "execution_count": 6,
     "metadata": {},
     "output_type": "execute_result"
    }
   ],
   "source": [
    "api_wrapper_wiki=WikipediaAPIWrapper(top_k_results=1,doc_content_chars_max=500)\n",
    "wiki=WikipediaQueryRun(api_wrapper=api_wrapper_wiki)\n",
    "wiki.name"
   ]
  },
  {
   "cell_type": "code",
   "execution_count": 9,
   "id": "6c03d596",
   "metadata": {},
   "outputs": [],
   "source": [
    "import os\n",
    "from dotenv import load_dotenv\n",
    "load_dotenv()\n",
    "\n",
    "os.environ[\"TAVILY_API_KEY\"]=os.getenv(\"TAVILY_API_KEY\")\n",
    "os.environ[\"GROQ_API_KEY\"]=os.getenv(\"GROQ_API_KEY\")"
   ]
  },
  {
   "cell_type": "code",
   "execution_count": 10,
   "id": "046b17d2",
   "metadata": {},
   "outputs": [],
   "source": [
    "### Tavily Search Tool\n",
    "from langchain_community.tools.tavily_search import TavilySearchResults\n",
    "tavily = TavilySearchResults()"
   ]
  },
  {
   "cell_type": "code",
   "execution_count": 11,
   "id": "9b273d97",
   "metadata": {},
   "outputs": [
    {
     "data": {
      "text/plain": [
       "[{'title': 'AI News & Artificial Intelligence | TechCrunch',\n",
       "  'url': 'https://techcrunch.com/category/artificial-intelligence/',\n",
       "  'content': \"### Anthropic reportedly nears $170B valuation with potential $5B round\\n\\n### Google’s NotebookLM rolls out Video Overviews\\n\\nOpenAI and ChatGPT logos\\n\\n### OpenAI launches Study Mode in ChatGPT\\n\\nSpotify icon displayed on a phone screen\\n\\n### Spotify hints at a more chatty voice AI interface in the future\\n\\nA person holding an iPhone and using Google AI Mode\\n\\n### Google’s AI Mode gets new ‘Canvas’ feature, real-time help with Search Live, and more [...] Microsoft CEO Satya Nadella speaks during the OpenAI DevDay event on November 06, 2023 in San Francisco, California.\\n\\n### Microsoft in talks to maintain access to OpenAI’s tech beyond AGI milestone\\n\\n### AI data analyst startup Julius nabs $10M seed round\\n\\n### Harmonic, the Robinhood CEO’s AI math startup, launches an AI chatbot app\\n\\nMicrosoft Edge Copilot Mode\\n\\n### Microsoft Edge is now an AI browser with launch of ‘Copilot Mode’\\n\\nAnthropic Claude 3.5 logo [...] ### Anthropic unveils new rate limits to curb Claude Code power users\\n\\nSteel workers releasing molten metal into a mould.\\n\\n### Why Dispo’s co-founder made the leap from social media to steelmaking\\n\\n### Google Chrome adds AI-powered store summaries to help US shoppers\\n\\nElon Musk onstage at 'Exploring the New Frontiers of Innovation'\\n\\n### Tesla signs $16.5B deal with Samsung to make AI chips\\n\\nAn American flag near the Golden Gate Bridge in San Francisco, California.\",\n",
       "  'score': 0.7380092},\n",
       " {'title': 'The latest AI news we announced in June - Google Blog',\n",
       "  'url': 'https://blog.google/technology/ai/google-ai-updates-june-2025/',\n",
       "  'content': \"# The latest AI news we announced in June\\n\\nJul 02, 2025\\n\\nHere’s a recap of some of our biggest AI updates from June, including more ways to search with AI Mode, a new way to share your NotebookLM notebooks publicly, and a new AI to help researchers better understand the human genome.\\n\\nSuperG\\n\\n## Basic explainer [...] For more than 20 years, we’ve invested in machine learning and AI research, tools and infrastructure to build products that make everyday life better for more people. Teams across Google are working on ways to unlock AI’s benefits in fields as wide-ranging as healthcare, crisis response and education. To keep you posted on our progress, we're doing a regular roundup of Google's most recent AI news.\\n\\nHere’s a look back at some of our AI announcements from June. [...] Google made some cool AI updates in June. They made their AI models faster and cheaper for people to use. You can now use your voice to search with AI and find photos easier. Also, AI can now help students learn and scientists understand the human body better.\",\n",
       "  'score': 0.7244226},\n",
       " {'title': 'Artificial Intelligence News - ScienceDaily',\n",
       "  'url': 'https://www.sciencedaily.com/news/computers_math/artificial_intelligence/',\n",
       "  'content': \"ScienceDaily\\n\\n# Artificial Intelligence News\\n\\n## Top Headlines\\n\\n## Latest Headlines\\n\\n## Earlier Headlines\\n\\n### Tuesday, May 27, 2025\\n\\n### Thursday, May 22, 2025\\n\\n### Wednesday, May 21, 2025\\n\\n### Monday, May 19, 2025\\n\\n### Thursday, May 15, 2025\\n\\n### Wednesday, May 14, 2025\\n\\n### Tuesday, May 13, 2025\\n\\n### Monday, May 12, 2025\\n\\n### Thursday, May 8, 2025\\n\\n### Wednesday, May 7, 2025\\n\\n### Tuesday, May 6, 2025\\n\\n### Monday, May 5, 2025\\n\\n### Thursday, May 1, 2025\\n\\n### Wednesday, April 30, 2025 [...] ### Monday, April 28, 2025\\n\\n### Friday, April 25, 2025\\n\\n### Thursday, April 24, 2025\\n\\n### Wednesday, April 23, 2025\\n\\n### Tuesday, April 22, 2025\\n\\n### Monday, April 21, 2025\\n\\n### Wednesday, April 16, 2025\\n\\n### Tuesday, April 15, 2025\\n\\n### Monday, April 14, 2025\\n\\n### Thursday, April 10, 2025\\n\\n### Wednesday, April 9, 2025\\n\\n### Tuesday, April 8, 2025\\n\\n### Monday, April 7, 2025\\n\\n### Friday, April 4, 2025\\n\\n### Thursday, April 3, 2025\\n\\n### Wednesday, April 2, 2025\\n\\n### Monday, March 31, 2025 [...] ### Friday, March 28, 2025\\n\\n### Thursday, March 27, 2025\\n\\n### Wednesday, March 26, 2025\\n\\n### Tuesday, March 25, 2025\\n\\n### Thursday, March 20, 2025\\n\\n### Wednesday, March 19, 2025\\n\\n### Tuesday, March 18, 2025\\n\\n## Breaking\\n\\n## Trending Topics\\n\\n## Strange & Offbeat\\n\\nStay informed with ScienceDaily's free email newsletter, updated daily and weekly. Or view our many newsfeeds in your RSS reader:\\n\\nKeep up to date with the latest news from ScienceDaily via social networks:\",\n",
       "  'score': 0.7156829},\n",
       " {'title': 'AI News | Latest AI News, Analysis & Events',\n",
       "  'url': 'https://www.artificialintelligence-news.com/',\n",
       "  'content': \"Alibaba's AI coding tool raises security concerns in the West · Google's Veo 3 AI video creation tools are now widely available · China doubles chooses AI self-\",\n",
       "  'score': 0.6271529},\n",
       " {'title': 'Artificial intelligence | Massachusetts Institute of Technology',\n",
       "  'url': 'https://news.mit.edu/topic/artificial-intelligence2',\n",
       "  'content': 'The simulations matched results from an underground lab experiment in Switzerland, suggesting modeling could be used to validate the safety of nuclear disposal sites.\\n\\nJuly 18, 2025\\n\\nRead full story →\\n\\nA robot thinking between numbers and letters\\n\\n### This “smart coach” helps LLMs switch between text and code\\n\\nThe CodeSteer system could boost large language models’ accuracy when solving complex problems, such as scheduling shipments in a supply chain.\\n\\nJuly 17, 2025\\n\\nRead full story → [...] ### New machine-learning application to help researchers predict chemical properties\\n\\nChemXploreML makes advanced chemical predictions easier and faster — without requiring deep programming skills.\\n\\nJuly 24, 2025\\n\\nRead full story →\\n\\n7 thumbnail portrait photos of MIT faculty\\n\\n### School of Architecture and Planning recognizes faculty with academic promotions in 2025\\n\\nThe faculty members’ work comprises multifaceted research and scholarship across a wide range of disciplines.\\n\\nJuly 22, 2025 [...] A small robotic arm is mounted on a circular white base, on a bright blue surface. It is holding a yellow pencil vertically and is connected to wires and electronic components, including a Raspberry Pi board.\\n\\n### Robot, know thyself: New vision-based system teaches machines to understand their bodies\\n\\nNeural Jacobian Fields, developed by MIT CSAIL researchers, can learn to control any robot from a single camera, without any other sensors.\\n\\nJuly 24, 2025\\n\\nRead full story →',\n",
       "  'score': 0.5889134}]"
      ]
     },
     "execution_count": 11,
     "metadata": {},
     "output_type": "execute_result"
    }
   ],
   "source": [
    "tavily.invoke(\"Provide me the recent AI news?\")"
   ]
  },
  {
   "cell_type": "code",
   "execution_count": 12,
   "id": "26c49ede",
   "metadata": {},
   "outputs": [],
   "source": [
    "## combine all these tools in the list\n",
    "tools=[arxiv, wiki, tavily]"
   ]
  },
  {
   "cell_type": "code",
   "execution_count": 17,
   "id": "16fb116e",
   "metadata": {},
   "outputs": [],
   "source": [
    "## Initialize the LLM Model\n",
    "from langchain_groq import ChatGroq\n",
    "\n",
    "llm=ChatGroq(model=\"qwen/qwen3-32b\")"
   ]
  },
  {
   "cell_type": "code",
   "execution_count": 18,
   "id": "b4468e3f",
   "metadata": {},
   "outputs": [
    {
     "data": {
      "text/plain": [
       "AIMessage(content='<think>\\nOkay, the user asked \"What is AI,\" so I need to explain AI in simple terms. Let me start by breaking down the basics. AI refers to machines or software that can perform tasks requiring human-like intelligence. But how to make it clear without jargon?\\n\\nFirst, mention that AI is a branch of computer science. Then, list common applications people might know, like virtual assistants or recommendation systems. Maybe include examples like Siri or Netflix recommendations. But wait, the user might not be familiar with all these terms, so keep it general.\\n\\nNext, explain the different types of AI. There\\'s narrow AI, which is what most systems today are, focused on specific tasks. Then general AI, which is more human-like but still theoretical. Also, maybe mention machine learning as a subset, since it\\'s crucial. But need to differentiate between AI and machine learning.\\n\\nAlso, address the goals of AI: solving complex problems, automation, pattern recognition. Maybe touch on how AI works—using data, algorithms, training models. But don\\'t go too deep into technical details unless the user asks.\\n\\nPotential pitfalls to avoid: don\\'t make it too technical, keep it conversational. Also, make sure to highlight the current vs. future capabilities, so the user understands that most AI today is narrow and not sentient.\\n\\nCheck if there\\'s a need to mention ethics or common misconceptions. The user didn\\'t ask for those, but maybe briefly note that AI isn\\'t about creating human-like consciousness yet, and that it\\'s about enhancing human capabilities.\\n\\nStructure the answer in a logical flow: definition, examples, types, how it works, current use cases, and a note on future possibilities. Keep each section concise. Let me start drafting.\\n</think>\\n\\nAI stands for **Artificial Intelligence**, which refers to systems or machines that can perform tasks requiring human-like intelligence. These tasks include learning, reasoning, problem-solving, perception, language understanding, and decision-making. Unlike simple automation, AI adapts and improves over time through data and experience.\\n\\n### Key Concepts:\\n1. **Narrow AI (Weak AI):** Most AI today is \"narrow,\" meaning it’s designed for specific tasks. Examples include:\\n   - Virtual assistants (e.g., Siri, Alexa)\\n   - Recommendation systems (e.g., Netflix, Spotify)\\n   - Spam filters in email\\n   - Self-driving car sensors\\n\\n2. **General AI (Strong AI):** A theoretical form of AI that can perform *any* intellectual task a human can. This remains a goal for researchers but does not yet exist.\\n\\n3. **How AI Works:**\\n   - **Machine Learning (ML):** A subset of AI that uses data to train models. For example, a model might learn to recognize cats in photos by analyzing thousands of labeled examples.\\n   - **Deep Learning:** A type of ML inspired by the human brain (using \"neural networks\") to process complex patterns, like identifying objects in videos or translating languages.\\n   - **Data-Driven:** AI systems rely on vast amounts of data to \"learn\" and make decisions.\\n\\n### Common Applications:\\n- **Healthcare:** Diagnosing diseases from medical images.\\n- **Finance:** Detecting fraudulent transactions.\\n- **Manufacturing:** Predictive maintenance of machinery.\\n- **Customer Service:** Chatbots for 24/7 support.\\n\\n### Important Notes:\\n- AI is **not sentient**; it lacks consciousness and emotions. It follows patterns in data, not intent.\\n- AI systems can have biases if trained on flawed data.\\n- Ethical debates around privacy, job displacement, and AI safety are ongoing.\\n\\nIn short, AI is a tool designed to **augment human capabilities**, not replace them. It’s already transforming industries, but its full potential—and challenges—are still being explored.', additional_kwargs={}, response_metadata={'token_usage': {'completion_tokens': 773, 'prompt_tokens': 11, 'total_tokens': 784, 'completion_time': 1.842863778, 'prompt_time': 0.000252306, 'queue_time': 0.057449943999999996, 'total_time': 1.843116084}, 'model_name': 'qwen/qwen3-32b', 'system_fingerprint': 'fp_f17c2eb555', 'service_tier': 'on_demand', 'finish_reason': 'stop', 'logprobs': None}, id='run--74c294da-bb4e-4237-ab5b-4981e50de5ef-0', usage_metadata={'input_tokens': 11, 'output_tokens': 773, 'total_tokens': 784})"
      ]
     },
     "execution_count": 18,
     "metadata": {},
     "output_type": "execute_result"
    }
   ],
   "source": [
    "llm.invoke(\"What is AI\")"
   ]
  },
  {
   "cell_type": "code",
   "execution_count": 19,
   "id": "34c9e35a",
   "metadata": {},
   "outputs": [],
   "source": [
    "llm_with_tools=llm.bind_tools(tools=tools)"
   ]
  },
  {
   "cell_type": "code",
   "execution_count": 20,
   "id": "52393491",
   "metadata": {},
   "outputs": [
    {
     "data": {
      "text/plain": [
       "AIMessage(content='', additional_kwargs={'reasoning_content': 'Okay, the user is asking for recent news on AI. Let me think about which tool to use here. The available tools are arxiv, wikipedia, and tavily_search_results_json. \\n\\nArxiv is good for academic papers, but the user wants news, not research papers. Wikipedia might have general information, but it\\'s not the best source for the latest news. Tavily_search_results_json sounds like a search engine that can fetch recent news articles. So I should use that.\\n\\nI need to make sure the query is properly formatted. The function requires a \"query\" parameter. The user\\'s query is \"recent news on AI\". So I\\'ll structure the tool call with that query using tavily_search_results_json. That should retrieve the latest news articles on AI.\\n', 'tool_calls': [{'id': 'z0bq7fxt1', 'function': {'arguments': '{\"query\":\"recent news on AI\"}', 'name': 'tavily_search_results_json'}, 'type': 'function'}]}, response_metadata={'token_usage': {'completion_tokens': 188, 'prompt_tokens': 268, 'total_tokens': 456, 'completion_time': 0.404959888, 'prompt_time': 0.01020172, 'queue_time': 0.050248150000000005, 'total_time': 0.415161608}, 'model_name': 'qwen/qwen3-32b', 'system_fingerprint': 'fp_f17c2eb555', 'service_tier': 'on_demand', 'finish_reason': 'tool_calls', 'logprobs': None}, id='run--d9eee6ed-8c51-4b16-9071-b1f331825363-0', tool_calls=[{'name': 'tavily_search_results_json', 'args': {'query': 'recent news on AI'}, 'id': 'z0bq7fxt1', 'type': 'tool_call'}], usage_metadata={'input_tokens': 268, 'output_tokens': 188, 'total_tokens': 456})"
      ]
     },
     "execution_count": 20,
     "metadata": {},
     "output_type": "execute_result"
    }
   ],
   "source": [
    "## Execute this call\n",
    "llm_with_tools.invoke(\"What is the recent news on AI?\")"
   ]
  },
  {
   "cell_type": "code",
   "execution_count": 21,
   "id": "28bce8ba",
   "metadata": {},
   "outputs": [
    {
     "data": {
      "text/plain": [
       "AIMessage(content='', additional_kwargs={'reasoning_content': 'Okay, the user is asking about the latest research on quantum computing. I need to figure out which tool to use here. The available tools are arxiv, wikipedia, and tavily_search_results_json. \\n\\nArxiv is a great source for the latest academic papers, so that might be the best bet since the user is asking for \"latest research.\" Wikipedia could provide some general background, but it might not have the most up-to-date information. Tavily seems to be a search tool, but I\\'m not as familiar with it. Maybe it\\'s a search engine? But arxiv is more specific to research papers.\\n\\nSo I\\'ll go with arxiv. The function requires a query parameter. The user\\'s query is \"latest research on quantum computing,\" so I should structure the arxiv search query accordingly. Maybe use keywords like \"quantum computing\" and sort by date to get the most recent papers. Let me make sure the query is properly formatted for arxiv\\'s search. I\\'ll use \"quantum computing\" as the query term and specify sorting by date. Wait, does arxiv\\'s search syntax allow for sorting? Or does it just return results based on the keywords? Maybe just the keywords are sufficient. Let me check the function\\'s description again. The arxiv function\\'s parameter is a \"search query to look up,\" so probably just the keywords. I\\'ll use \"quantum computing\" and maybe include \"recent\" or \"latest\" to help find the most recent papers. Hmm, but arxiv\\'s search might not use those terms for sorting. Alternatively, maybe I should use the publication date range. But the user didn\\'t specify a time frame. Maybe just \"quantum computing\" and let the arxiv search return the latest results. Alright, I\\'ll proceed with that. So the function call will be to arxiv with the query \"latest research on quantum computing.\" Let me make sure there\\'s no character limit or formatting issues. The query is a string, so it should be okay. I\\'ll format the JSON accordingly.\\n', 'tool_calls': [{'id': 'tvttrc25m', 'function': {'arguments': '{\"query\":\"latest research on quantum computing\"}', 'name': 'arxiv'}, 'type': 'function'}]}, response_metadata={'token_usage': {'completion_tokens': 444, 'prompt_tokens': 269, 'total_tokens': 713, 'completion_time': 2.033815726, 'prompt_time': 0.380125319, 'queue_time': 22.03489017, 'total_time': 2.413941045}, 'model_name': 'qwen/qwen3-32b', 'system_fingerprint': 'fp_f17c2eb555', 'service_tier': 'on_demand', 'finish_reason': 'tool_calls', 'logprobs': None}, id='run--a4dcc549-1a6f-421b-84b2-af9595d1af4d-0', tool_calls=[{'name': 'arxiv', 'args': {'query': 'latest research on quantum computing'}, 'id': 'tvttrc25m', 'type': 'tool_call'}], usage_metadata={'input_tokens': 269, 'output_tokens': 444, 'total_tokens': 713})"
      ]
     },
     "execution_count": 21,
     "metadata": {},
     "output_type": "execute_result"
    }
   ],
   "source": [
    "## Execute this call\n",
    "llm_with_tools.invoke(\"What is the latest research on quantum computing?\")"
   ]
  },
  {
   "cell_type": "code",
   "execution_count": 22,
   "id": "a96f5330",
   "metadata": {},
   "outputs": [
    {
     "data": {
      "text/plain": [
       "AIMessage(content='', additional_kwargs={'reasoning_content': 'Okay, the user is asking \"What is machine learning?\" I need to provide a clear and concise answer. Let me start by recalling the basic definition. Machine learning is a subset of artificial intelligence that involves systems learning from data. But maybe I should elaborate a bit more.\\n\\nWait, should I mention how it differs from traditional programming? Yes, because in traditional programming, you write explicit instructions, whereas in machine learning, the system learns patterns from data. That\\'s an important distinction.\\n\\nThe user might also want to know about the types of machine learning. Supervised, unsupervised, and reinforcement learning are the main ones. Including examples could help, like classification for supervised or clustering for unsupervised.\\n\\nI should also touch on applications to show its relevance. Things like image recognition, recommendation systems, and natural language processing. Maybe mention common algorithms like decision trees, neural networks, etc.\\n\\nBut wait, the user might not need all the technical details. Keep it high-level but informative. Let me check if there are any common misconceptions to address. For example, machine learning isn\\'t just about big data; it\\'s about the algorithms learning from data efficiently.\\n\\nHmm, should I use any of the provided tools to get the most accurate information? The tools available are arxiv, wikipedia, and tavily_search_results_json. Wikipedia would likely have a solid overview. Let me consider using the wikipedia function to fetch the summary.\\n\\nBut since the user is asking for a definition, maybe the existing knowledge is sufficient. However, to ensure accuracy and up-to-date info, using the wikipedia tool could be beneficial. Let me go ahead and call the wikipedia function with the query \"Machine learning\".\\n', 'tool_calls': [{'id': '8vjb4vk9t', 'function': {'arguments': '{\"query\":\"Machine learning\"}', 'name': 'wikipedia'}, 'type': 'function'}]}, response_metadata={'token_usage': {'completion_tokens': 364, 'prompt_tokens': 265, 'total_tokens': 629, 'completion_time': 0.813288376, 'prompt_time': 0.015020385, 'queue_time': 0.05189640500000001, 'total_time': 0.828308761}, 'model_name': 'qwen/qwen3-32b', 'system_fingerprint': 'fp_f17c2eb555', 'service_tier': 'on_demand', 'finish_reason': 'tool_calls', 'logprobs': None}, id='run--8395f57c-29bb-4e95-a8e7-f9bbbac40a7b-0', tool_calls=[{'name': 'wikipedia', 'args': {'query': 'Machine learning'}, 'id': '8vjb4vk9t', 'type': 'tool_call'}], usage_metadata={'input_tokens': 265, 'output_tokens': 364, 'total_tokens': 629})"
      ]
     },
     "execution_count": 22,
     "metadata": {},
     "output_type": "execute_result"
    }
   ],
   "source": [
    "## Execute this call\n",
    "llm_with_tools.invoke(\"What is machine learning?\")"
   ]
  },
  {
   "cell_type": "markdown",
   "id": "ec4ef877",
   "metadata": {},
   "source": [
    "### Workflow with Langgraph and REact"
   ]
  },
  {
   "cell_type": "code",
   "execution_count": 23,
   "id": "9c723f94",
   "metadata": {},
   "outputs": [],
   "source": [
    "## State Schema\n",
    "from typing_extensions import TypedDict\n",
    "from langchain_core.messages import AnyMessage ## Human message or AI message\n",
    "from typing import Annotated  ## labelling\n",
    "from langgraph.graph.message import add_messages  ## Reducers in Langgraph"
   ]
  },
  {
   "cell_type": "code",
   "execution_count": 24,
   "id": "80676fd3",
   "metadata": {},
   "outputs": [],
   "source": [
    "class State(TypedDict):\n",
    "    messages: Annotated[list[AnyMessage], add_messages]"
   ]
  },
  {
   "cell_type": "code",
   "execution_count": 25,
   "id": "5ab94ac3",
   "metadata": {},
   "outputs": [],
   "source": [
    "### Entire Chatbot With LangGraph\n",
    "from IPython.display import Image, display\n",
    "from langgraph.graph import StateGraph, START, END\n",
    "from langgraph.prebuilt import ToolNode\n",
    "from langgraph.prebuilt import tools_condition"
   ]
  },
  {
   "cell_type": "code",
   "execution_count": 26,
   "id": "5c7c2f2a",
   "metadata": {},
   "outputs": [
    {
     "data": {
      "image/png": "[encoded data removed]",
      "text/plain": [
       "<IPython.core.display.Image object>"
      ]
     },
     "metadata": {},
     "output_type": "display_data"
    }
   ],
   "source": [
    "### Node definition\n",
    "def tool_calling_llm(state:State):\n",
    "    return {\"messages\":[llm_with_tools.invoke(state[\"messages\"])]}\n",
    "\n",
    "# Build graph\n",
    "builder = StateGraph(State)\n",
    "builder.add_node(\"tool_calling_llm\", tool_calling_llm)\n",
    "builder.add_node(\"tools\", ToolNode(tools))\n",
    "\n",
    "## Edgess\n",
    "builder.add_edge(START, \"tool_calling_llm\")\n",
    "builder.add_conditional_edges(\n",
    "    \"tool_calling_llm\",\n",
    "    # If the latest message (result) from assistant is a tool call -> tools_condition routes to tools\n",
    "    # If the latest message (result) from assistant is a not a tool call -> tools_condition routes to END\n",
    "    tools_condition,\n",
    ")\n",
    "builder.add_edge(\"tools\", END)\n",
    "\n",
    "graph = builder.compile()\n",
    "\n",
    "# View\n",
    "display(Image(graph.get_graph().draw_mermaid_png()))\n"
   ]
  },
  {
   "cell_type": "code",
   "execution_count": 27,
   "id": "5398c45a",
   "metadata": {},
   "outputs": [
    {
     "name": "stdout",
     "output_type": "stream",
     "text": [
      "================================\u001b[1m Human Message \u001b[0m=================================\n",
      "\n",
      "1706.03762\n",
      "==================================\u001b[1m Ai Message \u001b[0m==================================\n",
      "Tool Calls:\n",
      "  arxiv (mv93my77b)\n",
      " Call ID: mv93my77b\n",
      "  Args:\n",
      "    query: 1706.03762\n",
      "=================================\u001b[1m Tool Message \u001b[0m=================================\n",
      "Name: arxiv\n",
      "\n",
      "Published: 2023-08-02\n",
      "Title: Attention Is All You Need\n",
      "Authors: Ashish Vaswani, Noam Shazeer, Niki Parmar, Jakob Uszkoreit, Llion Jones, Aidan N. Gomez, Lukasz Kaiser, Illia Polosukhin\n",
      "Summary: The dominant sequence transduction models are based on complex recurrent or\n",
      "convolutional neural networks in an encoder-decoder configuration. The best\n",
      "performing models also connect the encoder and decoder through an attention\n",
      "mechanism. We propose a new simple network architecture, the Transformer, base\n"
     ]
    }
   ],
   "source": [
    "messages=graph.invoke({\"messages\":\"1706.03762\"}) # 1706.03762 this is research pepar number\n",
    "for m in messages['messages']:\n",
    "    m.pretty_print()"
   ]
  },
  {
   "cell_type": "code",
   "execution_count": 31,
   "id": "63965023",
   "metadata": {},
   "outputs": [
    {
     "name": "stdout",
     "output_type": "stream",
     "text": [
      "================================\u001b[1m Human Message \u001b[0m=================================\n",
      "\n",
      "who is dr. yunus\n",
      "==================================\u001b[1m Ai Message \u001b[0m==================================\n",
      "Tool Calls:\n",
      "  wikipedia (s407yzzhg)\n",
      " Call ID: s407yzzhg\n",
      "  Args:\n",
      "    query: Dr. Yunus\n",
      "=================================\u001b[1m Tool Message \u001b[0m=================================\n",
      "Name: wikipedia\n",
      "\n",
      "Page: Muhammad Yunus\n",
      "Summary: Muhammad Yunus (born 28 June 1940) is a Bangladeshi economist, entrepreneur, civil society leader and statesman who has been serving as the fifth chief adviser of Bangladesh since 8 August 2024. Yunus pioneered the modern concept of microcredit and microfinance, for which he was awarded the Nobel Peace Prize in 2006 as the first Bangladeshi to win the Nobel Peace Prize and he is also the founder of Grameen Bank. \n",
      "Born in Hathazari, Chittagong, Yunus passed his matri\n"
     ]
    }
   ],
   "source": [
    "messages=graph.invoke({\"messages\":\"who is dr. yunus\"})\n",
    "for m in messages['messages']:\n",
    "    m.pretty_print()"
   ]
  },
  {
   "cell_type": "code",
   "execution_count": 32,
   "id": "8413558c",
   "metadata": {},
   "outputs": [
    {
     "data": {
      "image/png": "[encoded data removed]",
      "text/plain": [
       "<IPython.core.display.Image object>"
      ]
     },
     "metadata": {},
     "output_type": "display_data"
    }
   ],
   "source": [
    "### Node definition\n",
    "def tool_calling_llm(state:State):\n",
    "    return {\"messages\":[llm_with_tools.invoke(state[\"messages\"])]}\n",
    "\n",
    "# Build graph\n",
    "builder = StateGraph(State)\n",
    "builder.add_node(\"tool_calling_llm\", tool_calling_llm)\n",
    "builder.add_node(\"tools\", ToolNode(tools))\n",
    "\n",
    "## Edgess\n",
    "builder.add_edge(START, \"tool_calling_llm\")\n",
    "builder.add_conditional_edges(\n",
    "    \"tool_calling_llm\",\n",
    "    # If the latest message (result) from assistant is a tool call -> tools_condition routes to tools\n",
    "    # If the latest message (result) from assistant is a not a tool call -> tools_condition routes to END\n",
    "    tools_condition,\n",
    ")\n",
    "builder.add_edge(\"tools\", \"tool_calling_llm\")\n",
    "\n",
    "graph = builder.compile()\n",
    "\n",
    "# View\n",
    "display(Image(graph.get_graph().draw_mermaid_png()))\n"
   ]
  },
  {
   "cell_type": "code",
   "execution_count": 33,
   "id": "f9dd4aaa",
   "metadata": {},
   "outputs": [
    {
     "name": "stdout",
     "output_type": "stream",
     "text": [
      "================================\u001b[1m Human Message \u001b[0m=================================\n",
      "\n",
      "What is the recent AI news and then please tell me the recent research paper on quantum computing?\n",
      "==================================\u001b[1m Ai Message \u001b[0m==================================\n",
      "Tool Calls:\n",
      "  tavily_search_results_json (v7qq09sbb)\n",
      " Call ID: v7qq09sbb\n",
      "  Args:\n",
      "    query: recent AI news 2024\n",
      "  arxiv (ck6ev28an)\n",
      " Call ID: ck6ev28an\n",
      "  Args:\n",
      "    query: quantum computing recent research\n",
      "=================================\u001b[1m Tool Message \u001b[0m=================================\n",
      "Name: tavily_search_results_json\n",
      "\n",
      "[{\"title\": \"The Top 10 AI Stories of 2024 - IEEE Spectrum\", \"url\": \"https://spectrum.ieee.org/top-ai-stories-2024\", \"content\": \"In 2024, we highlighted investment in generative AI, the cost and environmental footprint of training foundation models, corporate reports of AI helping the bottom line, and public wariness of AI.\\n\\n## 7. A New Type of Neural Network Is More Interpretable\\n\\ndeep purple dots and lines connected together with 0's and 1's inbetween against a dark background\\niStock\\n\\ndeep purple dots and lines connected together with 0's and 1's inbetween against a dark background [...] The next story brings us to the tech hub of Bengaluru, India, which has grown faster in population than in infrastructure—leaving it with some of the most congested streets in the world. Now, a former chip engineer has been given the daunting task of taming the traffic. He has turned to AI for help, using a tool that models congestion, predicts traffic jams, identifies events that draw big crowds, and enables police officers to log incidents. [...] This article describes a fundamentally new way to make neural networks that are more interpretable than traditional systems and also seem to be more accurate. When the designers tested their new model on physics questions and differential equations, they were able to visually map out how the model got its (often correct) answers.\\n\\n## 8. AI Takes On India’s Most Congested City\\n\\nA man is seen from behind at a desk in front of three jumbo screens with the feeds from many traffic cameras.\\nEdd Gent\", \"score\": 0.8737439}, {\"title\": \"Agency AI use doubled in 2024, GAO finds - Nextgov/FCW\", \"url\": \"https://www.nextgov.com/artificial-intelligence/2025/07/agency-ai-use-doubled-2024-gao-finds/407067/\", \"content\": \"The uptick in AI use at the federal level and the corresponding development of agency-specific AI guidance has been consistently documented, with other figures from late 2024 counting over 1,700 active AI use cases across 37 agencies. The Trump administration has prioritized issuing broad federal guidance that will change the AI contracting and usage landscape, primarily focusing on banning “woke” AI from government use and ensuring transparency in model structure. [...] In a survey conducted across 11 different agencies, GAO found that documented AI use cases grew from 571 in 2023 to 1,110 in 2024. The report was a result of multiple requests for federal agencies to prepare updated inventories of AI in their business operations, including a 2020 Executive Order and August 2024 guidance from the Federal Chief Information Officer Council. [...] GAO’s review found that the Department of Health and Human Services lead the way in AI adoption, with a reported total of 271 documented AI systems in place as of 2024. Behind HHS was the Department of Veterans Affairs, with 229 AI use cases in operation and the Department of Homeland Security, with 183 AI tools employed in business operations.\", \"score\": 0.86080295}, {\"title\": \"AI Magazine: Home of AI and Artificial Intelligence News\", \"url\": \"https://aimagazine.com/\", \"content\": \"### Nvidia & Google Cloud: Using Gemini AI for Regulated Sectors\\n\\n## Videos\\n\\n### AI is a Catalyst for Telco Transformation at DTW Ignite 2024\\n\\nAt DTW Ignite 2024 in Copenhagen, AI Magazine speaks exclusively with industry leaders about how AI can be leveraged by the telco industry to fuel progress…\\n\\n### Cutting Costs, Boosting Efficiency in the US Public Sector\\n\\n### SpendHQ: Enabling world-class procurement transformation\\n\\n### How JCI Supports DC Blox with Unique Cooling Technology\\n\\n## AR & VR [...] ### ARtGlass: The World Leader in Wearable AR Experience\\n\\nWhere Innovation Meets Cultural Heritage through Immersive AR…\\n\\n### Apple’s Vision Pro Headset marks a New Era of AR Technology\\n\\n### Microsoft and Inworld AI partner to harness Generative AI\\n\\n## Data & Analytics\\n\\n### CoreWeave’s Goals From Investing $6bn in AI Data Centres\\n\\nCoreWeave announces a US$6bn investment to expand its AI data centre operations in Pennsylvania, making the region a hub for AI computing services… [...] ### CoreWeave’s Goals From Investing $6bn in AI Data Centres\\n\\n### Is ‘Zero Trust’ the Future of Data Centre Security?\\n\\n### Aussie Telcos Face Data Security Risks Despite Digital Push\\n\\n### People Moves: Jane Rheem\\n\\n### FIS Revolutionises Business Finances with AI\\n\\n## Events\\n\\n### Big Data & AI World Asia\\n\\nJoin us at Marina Bay Sands, Singapore, on 8–9 October 2025 for the leading event dedicated to Big Data & AI professionals!…\\n\\n### Cloud & AI Infrastructure Asia\", \"score\": 0.7777226}, {\"title\": \"Artificial Intelligence News - ScienceDaily\", \"url\": \"https://www.sciencedaily.com/news/computers_math/artificial_intelligence/\", \"content\": \"ScienceDaily\\n\\n# Artificial Intelligence News\\n\\n## Top Headlines\\n\\n## Latest Headlines\\n\\n## Earlier Headlines\\n\\n### Tuesday, May 27, 2025\\n\\n### Thursday, May 22, 2025\\n\\n### Wednesday, May 21, 2025\\n\\n### Monday, May 19, 2025\\n\\n### Thursday, May 15, 2025\\n\\n### Wednesday, May 14, 2025\\n\\n### Tuesday, May 13, 2025\\n\\n### Monday, May 12, 2025\\n\\n### Thursday, May 8, 2025\\n\\n### Wednesday, May 7, 2025\\n\\n### Tuesday, May 6, 2025\\n\\n### Monday, May 5, 2025\\n\\n### Thursday, May 1, 2025\\n\\n### Wednesday, April 30, 2025 [...] ### Monday, April 28, 2025\\n\\n### Friday, April 25, 2025\\n\\n### Thursday, April 24, 2025\\n\\n### Wednesday, April 23, 2025\\n\\n### Tuesday, April 22, 2025\\n\\n### Monday, April 21, 2025\\n\\n### Wednesday, April 16, 2025\\n\\n### Tuesday, April 15, 2025\\n\\n### Monday, April 14, 2025\\n\\n### Thursday, April 10, 2025\\n\\n### Wednesday, April 9, 2025\\n\\n### Tuesday, April 8, 2025\\n\\n### Monday, April 7, 2025\\n\\n### Friday, April 4, 2025\\n\\n### Thursday, April 3, 2025\\n\\n### Wednesday, April 2, 2025\\n\\n### Monday, March 31, 2025 [...] ### Friday, March 28, 2025\\n\\n### Thursday, March 27, 2025\\n\\n### Wednesday, March 26, 2025\\n\\n### Tuesday, March 25, 2025\\n\\n### Thursday, March 20, 2025\\n\\n### Wednesday, March 19, 2025\\n\\n### Tuesday, March 18, 2025\\n\\n## Breaking\\n\\n## Trending Topics\\n\\n## Strange & Offbeat\\n\\nStay informed with ScienceDaily's free email newsletter, updated daily and weekly. Or view our many newsfeeds in your RSS reader:\\n\\nKeep up to date with the latest news from ScienceDaily via social networks:\", \"score\": 0.5057865}, {\"title\": \"Artificial intelligence (AI) | The Guardian\", \"url\": \"https://www.theguardian.com/technology/artificialintelligenceai\", \"content\": \"### China calls for global AI cooperation days after Trump administration unveils low-regulation strategy\\n\\nKing Gizzard and the Lizard Wizard say they are quitting Spotify in protest against Daniel Ek’s links with the defence industry\\n\\n### King Gizzard and the Lizard Wizard join Spotify exodus over arms industry link\\n\\n## 25 July 2025\\n\\nBar Patrons In Montmartre<br>024\\n\\n### ‘City of singles’: cosmopolitan prewar Paris’s ‘crazy years’ brought to life\\n\\nMan holds up executive order [...] ### Indian film company to rerelease romantic drama with AI ‘happy ending’\\n\\n## 26 July 2025\\n\\nThe White House with US flag.\\n\\n### Doge reportedly using AI tool to create ‘delete list’ of federal regulations\\n\\nReflection of computer programmer staring at a computer screen of code.\\n\\n### Competition shows humans are still better than AI at coding – just\\n\\nChinese Premier Li Qiang speaks during the World Artificial Intelligence Conference in Shanghai.\", \"score\": 0.41179726}]\n",
      "=================================\u001b[1m Tool Message \u001b[0m=================================\n",
      "Name: arxiv\n",
      "\n",
      "Published: 2022-04-04\n",
      "Title: Evolution of Quantum Computing: A Systematic Survey on the Use of Quantum Computing Tools\n",
      "Authors: Paramita Basak Upama, Md Jobair Hossain Faruk, Mohammad Nazim, Mohammad Masum, Hossain Shahriar, Gias Uddin, Shabir Barzanjeh, Sheikh Iqbal Ahamed, Akond Rahman\n",
      "Summary: Quantum Computing (QC) refers to an emerging paradigm that inherits and\n",
      "builds with the concepts and phenomena of Quantum Mechanic (QM) with the\n",
      "significant potential to unlock a remarkable opportunity \n",
      "==================================\u001b[1m Ai Message \u001b[0m==================================\n",
      "\n",
      "### Recent AI News (2024 Highlights):\n",
      "1. **Interpretable Neural Networks**: Researchers developed a new neural network architecture that is both more interpretable and accurate than traditional models, demonstrating success in solving physics problems and differential equations (IEEE Spectrum).\n",
      "2. **Federal AI Adoption**: U.S. federal agencies doubled their AI use cases from 2023 to 2024, with the Department of Health and Human Services leading in AI implementation (Nextgov/FCW).\n",
      "3. **AI in Urban Management**: A former chip engineer in Bengaluru, India, deployed AI tools to model traffic congestion and predict jams, aiming to ease the city’s notorious traffic (IEEE Spectrum).\n",
      "4. **Regulatory Shifts**: The Trump administration prioritized AI transparency and banned \"woke\" AI in government use, while tech giants like Nvidia and Google Cloud expanded AI applications in regulated sectors (AI Magazine).\n",
      "\n",
      "---\n",
      "\n",
      "### Recent Quantum Computing Research Paper:\n",
      "**Title:** *Evolution of Quantum Computing: A Systematic Survey on the Use of Quantum Computing Tools*  \n",
      "**Authors:** Paramita Basak Upama, Md Jobair Hossain Faruk, et al.  \n",
      "**Published:** 2022  \n",
      "**Summary:** This survey paper reviews the development of quantum computing, focusing on quantum mechanics-based tools and their potential to revolutionize computation. While the paper is from 2022, it provides a foundational overview of the field. For more recent advancements, consider checking newer preprints on platforms like arXiv, as quantum computing research is rapidly evolving.  \n",
      "\n",
      "Let me know if you’d like further details or updates!\n"
     ]
    }
   ],
   "source": [
    "messages=graph.invoke({\"messages\":\"What is the recent AI news and then please tell me the recent research paper on quantum computing?\"})\n",
    "for m in messages['messages']:\n",
    "    m.pretty_print()"
   ]
  },
  {
   "cell_type": "code",
   "execution_count": null,
   "id": "2662a0bd",
   "metadata": {},
   "outputs": [],
   "source": []
  }
 ],
 "metadata": {
  "kernelspec": {
   "display_name": "venv",
   "language": "python",
   "name": "python3"
  },
  "language_info": {
   "codemirror_mode": {
    "name": "ipython",
    "version": 3
   },
   "file_extension": ".py",
   "mimetype": "text/x-python",
   "name": "python",
   "nbconvert_exporter": "python",
   "pygments_lexer": "ipython3",
   "version": "3.10.8"
  }
 },
 "nbformat": 4,
 "nbformat_minor": 5
}
